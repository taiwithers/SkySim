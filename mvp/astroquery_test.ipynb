{
 "cells": [
  {
   "cell_type": "code",
   "execution_count": 1,
   "id": "78c468ff-5e72-4982-87b3-00e1a815ba20",
   "metadata": {},
   "outputs": [],
   "source": [
    "import numpy as np\n",
    "from astropy import conf as config\n",
    "from astropy import units as u\n",
    "from astropy.coordinates import SkyCoord\n",
    "from astropy.table import QTable, join, vstack\n",
    "from astroquery.simbad import Simbad\n",
    "\n",
    "config.max_width = -1\n",
    "\n",
    "Simbad.clear_cache()\n",
    "Simbad.reset_votable_fields()\n",
    "Simbad.add_votable_fields(\n",
    "    \"otype\", \"flux\"\n",
    ")  # , 'mesDiameter')#, 'mesDistance') # allfluxes\n",
    "\n",
    "columns_to_remove = [\n",
    "    \"coo_err_min\",\n",
    "    \"coo_err_angle\",\n",
    "    \"coo_wavelength\",\n",
    "    \"coo_bibcode\",\n",
    "    \"coo_err_maj\",\n",
    "    \"bibcode\",\n",
    "    \"flux_err\",\n",
    "    \"flux_err_prec\",\n",
    "    \"flux_prec\",\n",
    "    \"oid_ref\",\n",
    "    \"qual\",\n",
    "    \"mesdiameter.bibcode\",\n",
    "    \"mesdiameter.diameter_prec\",\n",
    "    \"mesdiameter.error\",\n",
    "    \"mesdiameter.error_prec\",\n",
    "    \"mesdiameter.method\",\n",
    "    \"mesdiameter.qual\",\n",
    "    \"mesdiameter.mespos\",\n",
    "    \"mesdistance.bibcode\",\n",
    "    \"mesdistance.dist_prec\",\n",
    "    \"mesdistance.mespos\",\n",
    "    \"mesdistance.method\",\n",
    "    \"mesdistance.minus_err\",\n",
    "    \"mesdistance.minus_err_prec\",\n",
    "    \"mesdistance.plus_err\",\n",
    "    \"mesdistance.plus_err_prec\",\n",
    "    \"mesdistance.qual\",\n",
    "]\n",
    "\n",
    "criteria = \"otype != 'err'\""
   ]
  },
  {
   "cell_type": "code",
   "execution_count": 2,
   "id": "d17c105c",
   "metadata": {},
   "outputs": [
    {
     "name": "stderr",
     "output_type": "stream",
     "text": [
      "WARNING: MergeConflictWarning: Cannot merge meta key 'ID' types <class 'str'> and <class 'str'>, choosing ID='result_S1739567387379' [astropy.utils.metadata.merge]\n",
      "WARNING: MergeConflictWarning: Cannot merge meta key 'name' types <class 'str'> and <class 'str'>, choosing name='result_S1739567387379' [astropy.utils.metadata.merge]\n",
      "WARNING: MergeConflictWarning: Cannot merge meta key 'ID' types <class 'str'> and <class 'str'>, choosing ID='result_S1739567387792' [astropy.utils.metadata.merge]\n",
      "WARNING: MergeConflictWarning: Cannot merge meta key 'name' types <class 'str'> and <class 'str'>, choosing name='result_S1739567387792' [astropy.utils.metadata.merge]\n"
     ]
    },
    {
     "name": "stdout",
     "output_type": "stream",
     "text": [
      "main_id  ra dec otype filter flux mesdiameter.diameter mesdiameter.filter mesdiameter.unit mesdistance.dist mesdistance.unit plx_value\n",
      "        deg deg                                                                                                                 mas   \n",
      "------- --- --- ----- ------ ---- -------------------- ------------------ ---------------- ---------------- ---------------- ---------\n"
     ]
    },
    {
     "name": "stderr",
     "output_type": "stream",
     "text": [
      "WARNING: MergeConflictWarning: Cannot merge meta key 'ID' types <class 'str'> and <class 'str'>, choosing ID='result_S1739567391728' [astropy.utils.metadata.merge]\n",
      "WARNING: MergeConflictWarning: Cannot merge meta key 'name' types <class 'str'> and <class 'str'>, choosing name='result_S1739567391728' [astropy.utils.metadata.merge]\n"
     ]
    }
   ],
   "source": [
    "vega = SkyCoord(\n",
    "    ra=18 * u.hour + 36 * u.minute + 56.33635 * u.second,\n",
    "    dec=38 * u.deg + 47 * u.arcmin + 1.28 * u.arcsec,\n",
    ")\n",
    "omc = SkyCoord(ra=5 * u.hour + 35.3 * u.minute, dec=-(5 * u.deg + 23 * u.arcmin))\n",
    "\n",
    "radius = 1 * u.deg\n",
    "\n",
    "source = omc\n",
    "\n",
    "Simbad.reset_votable_fields()\n",
    "Simbad.add_votable_fields(\"otype\", \"flux\")\n",
    "basic_result = QTable(Simbad.query_region(source, radius=radius, criteria=criteria))\n",
    "\n",
    "Simbad.reset_votable_fields()\n",
    "Simbad.add_votable_fields(\"mesDiameter\")\n",
    "diameter_result = QTable(Simbad.query_region(source, radius=radius, criteria=criteria))\n",
    "\n",
    "Simbad.reset_votable_fields()\n",
    "Simbad.add_votable_fields(\"mesDistance\")\n",
    "distance_result = QTable(Simbad.query_region(source, radius=radius, criteria=criteria))\n",
    "\n",
    "Simbad.reset_votable_fields()\n",
    "Simbad.add_votable_fields(\"plx_value\")\n",
    "parallax_result = QTable(Simbad.query_region(source, radius=radius, criteria=criteria))\n",
    "\n",
    "for table in [basic_result, diameter_result, distance_result, parallax_result]:\n",
    "    for colname in columns_to_remove:\n",
    "        if colname in table.colnames:\n",
    "            table.remove_column(colname)\n",
    "query_result = join(\n",
    "    basic_result, diameter_result, keys=[\"main_id\", \"ra\", \"dec\"], join_type=\"left\"\n",
    ")  # include all basic, and diam when available\n",
    "query_result = join(\n",
    "    query_result, distance_result, keys=[\"main_id\", \"ra\", \"dec\"], join_type=\"left\"\n",
    ")\n",
    "query_result = join(\n",
    "    query_result, parallax_result, keys=[\"main_id\", \"ra\", \"dec\"], join_type=\"left\"\n",
    ")\n",
    "\n",
    "# print(query_result)\n",
    "\n",
    "vegarow = query_result[\"main_id\"] == \"* alf Lyr\"\n",
    "print(query_result[vegarow])"
   ]
  },
  {
   "cell_type": "code",
   "execution_count": 3,
   "id": "1450e122-f3cb-47b5-8e02-f3679b6dda18",
   "metadata": {},
   "outputs": [
    {
     "name": "stdout",
     "output_type": "stream",
     "text": [
      "     id        ra      dec    object_type magnitude diameter diameter.filter parallax  distance\n",
      "              deg      deg                           solRad                    mas             \n",
      "----------- -------- -------- ----------- --------- -------- --------------- -------- ---------\n",
      "  NGC  1980    83.81   -5.924         OpC       2.5      nan                    2.586  520.0 pc\n",
      "  NGC  1980    83.81   -5.924         OpC       2.5      nan                    2.586  377.0 pc\n",
      "  NGC  1980    83.81   -5.924         OpC       2.5      nan                    2.586  483.0 pc\n",
      "  NGC  1980    83.81   -5.924         OpC       2.5      nan                    2.586  297.0 pc\n",
      "  NGC  1980    83.81   -5.924         OpC       2.5      nan                    2.586  0.39 kpc\n",
      "  NGC  1980    83.81   -5.924         OpC       2.5      nan                    2.586  550.0 pc\n",
      "  NGC  1980    83.81   -5.924         OpC       2.5      nan                    2.586  316.0 pc\n",
      "  NGC  1980    83.81   -5.924         OpC       2.5      nan                    2.586  383.6 pc\n",
      "  * iot Ori 83.85828 -5.90989         SB*      2.77      nan                   1.9969    nan pc\n",
      "        ...      ...      ...         ...       ...      ...             ...      ...       ...\n",
      "  HD  36843 83.60034 -4.80434         Pu*      6.82      nan                   6.6956 155.43 pc\n",
      "  HD  36843 83.60034 -4.80434         Pu*      6.82      nan                   6.6956 149.35 pc\n",
      "  HD  37061 83.88069 -5.26738         Or*      6.83      nan                   2.4059 415.64 pc\n",
      "  HD  37061 83.88069 -5.26738         Or*      6.83      nan                   2.4059  445.0 pc\n",
      "  HD  37061 83.88069 -5.26738         Or*      6.83      nan                   2.4059 523.15 pc\n",
      "  HD  36958 83.76995 -4.73184         Or*       6.9      nan                   2.7552  411.2 pc\n",
      "  HD  36958 83.76995 -4.73184         Or*       6.9      nan                   2.7552  411.2 pc\n",
      "  HD  36958 83.76995 -4.73184         Or*       6.9      nan                   2.7552 362.95 pc\n",
      "* iot Ori B 83.86023 -5.91235         Or*       7.0      nan                    2.787 419.48 pc\n",
      "* iot Ori B 83.86023 -5.91235         Or*       7.0      nan                    2.787 358.81 pc\n",
      "Length = 56 rows\n",
      " id  ra dec object_type magnitude diameter diameter.filter parallax distance\n",
      "    deg deg                        solRad                    mas            \n",
      "--- --- --- ----------- --------- -------- --------------- -------- --------\n"
     ]
    }
   ],
   "source": [
    "omc = SkyCoord(ra=5 * u.hour + 35.3 * u.minute, dec=-(5 * u.deg + 23 * u.arcmin))\n",
    "vega = SkyCoord(\n",
    "    ra=18 * u.hour + 36 * u.minute + 56.33635 * u.second,\n",
    "    dec=38 * u.deg + 47 * u.arcmin + 1.28 * u.arcsec,\n",
    ")\n",
    "radius = 1 * u.deg\n",
    "\n",
    "magnitude_cutoff = 7\n",
    "\n",
    "# query_result = QTable(Simbad.query_region(vega, radius=radius, criteria=criteria))\n",
    "# for colname in columns_to_remove:\n",
    "#     if colname in query_result.colnames:\n",
    "#         query_result.remove_column(colname)\n",
    "\n",
    "\n",
    "# basic\n",
    "query_result.rename_column(\"otype\", \"object_type\")\n",
    "query_result.rename_column(\"main_id\", \"id\")\n",
    "query_result[\"ra\"] = query_result[\"ra\"].round(5)\n",
    "query_result[\"dec\"] = query_result[\"dec\"].round(5)\n",
    "\n",
    "# diameter\n",
    "diameter_colnames = [n for n in query_result.colnames if \"mesdiameter\" in n]\n",
    "query_result.rename_columns(\n",
    "    diameter_colnames, [f\"diameter{i}\" for i in [\"\", \".filter\", \".unit\"]]\n",
    ")\n",
    "query_result[\"diameter\"] = query_result[\"diameter\"].data.filled(np.nan) * [\n",
    "    u.Unit(i) for i in query_result[\"diameter.unit\"].data.filled(\"km\")\n",
    "]\n",
    "query_result[\"diameter\"] = [i.to(u.R_sun) for i in query_result[\"diameter\"]]\n",
    "query_result[\"diameter\"] = query_result[\"diameter\"].round(3)\n",
    "query_result[\"diameter.filter\"] = query_result[\"diameter.filter\"].filled(\"\")\n",
    "query_result.remove_column(\"diameter.unit\")\n",
    "\n",
    "# magnitude\n",
    "query_result = query_result[np.argsort(query_result[\"flux\"])]\n",
    "query_result.rename_columns((\"filter\", \"flux\"), (\"magnitude.filter\", \"magnitude\"))\n",
    "query_result = query_result[query_result[\"magnitude.filter\"] == \"V\"]\n",
    "query_result.remove_column(\"magnitude.filter\")\n",
    "query_result = query_result[query_result[\"magnitude\"] <= magnitude_cutoff]\n",
    "\n",
    "# # distance\n",
    "query_result[\"distance\"] = query_result[\"mesdistance.dist\"].round(2).data.filled(\n",
    "    np.nan\n",
    ") * [u.Unit(i) for i in query_result[\"mesdistance.unit\"].filled(\"pc\")]\n",
    "query_result.remove_columns([\"mesdistance.dist\", \"mesdistance.unit\"])\n",
    "\n",
    "query_result.rename_column(\"plx_value\", \"parallax\")\n",
    "\n",
    "\n",
    "print(query_result)\n",
    "vegarow = query_result[\"id\"] == \"* alf Lyr\"\n",
    "\n",
    "print(query_result[vegarow])"
   ]
  },
  {
   "cell_type": "code",
   "execution_count": 4,
   "id": "21c72b48",
   "metadata": {},
   "outputs": [
    {
     "data": {
      "text/plain": [
       "array([''], dtype=object)"
      ]
     },
     "execution_count": 4,
     "metadata": {},
     "output_type": "execute_result"
    }
   ],
   "source": [
    "np.unique(query_result[\"diameter.filter\"].data)"
   ]
  },
  {
   "cell_type": "code",
   "execution_count": 5,
   "id": "86ae81da",
   "metadata": {},
   "outputs": [
    {
     "ename": "TableMergeError",
     "evalue": "The 'object_type' columns have incompatible types: ['object', 'str96', 'str96', 'object', 'object', 'object', 'object', 'str96', 'object', 'object', 'object', 'object', 'str32', 'str32', 'object', 'object', 'object', 'object', 'object', 'object', 'object', 'object']",
     "output_type": "error",
     "traceback": [
      "\u001b[0;31m---------------------------------------------------------------------------\u001b[0m",
      "\u001b[0;31mMergeConflictError\u001b[0m                        Traceback (most recent call last)",
      "File \u001b[0;32m~/.cache/pypoetry/virtualenvs/skysim-QrhNYtKo-py3.12/lib/python3.12/site-packages/astropy/table/operations.py:1494\u001b[0m, in \u001b[0;36m_vstack\u001b[0;34m(arrays, join_type, metadata_conflicts)\u001b[0m\n\u001b[1;32m   1493\u001b[0m \u001b[38;5;28;01mtry\u001b[39;00m:\n\u001b[0;32m-> 1494\u001b[0m     col \u001b[38;5;241m=\u001b[39m \u001b[43mcol_cls\u001b[49m\u001b[38;5;241;43m.\u001b[39;49m\u001b[43minfo\u001b[49m\u001b[38;5;241;43m.\u001b[39;49m\u001b[43mnew_like\u001b[49m\u001b[43m(\u001b[49m\u001b[43mcols\u001b[49m\u001b[43m,\u001b[49m\u001b[43m \u001b[49m\u001b[43mn_rows\u001b[49m\u001b[43m,\u001b[49m\u001b[43m \u001b[49m\u001b[43mmetadata_conflicts\u001b[49m\u001b[43m,\u001b[49m\u001b[43m \u001b[49m\u001b[43mout_name\u001b[49m\u001b[43m)\u001b[49m\n\u001b[1;32m   1495\u001b[0m \u001b[38;5;28;01mexcept\u001b[39;00m metadata\u001b[38;5;241m.\u001b[39mMergeConflictError \u001b[38;5;28;01mas\u001b[39;00m err:\n\u001b[1;32m   1496\u001b[0m     \u001b[38;5;66;03m# Beautify the error message when we are trying to merge columns with incompatible\u001b[39;00m\n\u001b[1;32m   1497\u001b[0m     \u001b[38;5;66;03m# types by including the name of the columns that originated the error.\u001b[39;00m\n",
      "File \u001b[0;32m~/.cache/pypoetry/virtualenvs/skysim-QrhNYtKo-py3.12/lib/python3.12/site-packages/astropy/table/column.py:485\u001b[0m, in \u001b[0;36mColumnInfo.new_like\u001b[0;34m(self, cols, length, metadata_conflicts, name)\u001b[0m\n\u001b[1;32m    461\u001b[0m \u001b[38;5;250m\u001b[39m\u001b[38;5;124;03m\"\"\"\u001b[39;00m\n\u001b[1;32m    462\u001b[0m \u001b[38;5;124;03mReturn a new Column instance which is consistent with the\u001b[39;00m\n\u001b[1;32m    463\u001b[0m \u001b[38;5;124;03minput ``cols`` and has ``length`` rows.\u001b[39;00m\n\u001b[0;32m   (...)\u001b[0m\n\u001b[1;32m    483\u001b[0m \n\u001b[1;32m    484\u001b[0m \u001b[38;5;124;03m\"\"\"\u001b[39;00m\n\u001b[0;32m--> 485\u001b[0m attrs \u001b[38;5;241m=\u001b[39m \u001b[38;5;28;43mself\u001b[39;49m\u001b[38;5;241;43m.\u001b[39;49m\u001b[43mmerge_cols_attributes\u001b[49m\u001b[43m(\u001b[49m\n\u001b[1;32m    486\u001b[0m \u001b[43m    \u001b[49m\u001b[43mcols\u001b[49m\u001b[43m,\u001b[49m\u001b[43m \u001b[49m\u001b[43mmetadata_conflicts\u001b[49m\u001b[43m,\u001b[49m\u001b[43m \u001b[49m\u001b[43mname\u001b[49m\u001b[43m,\u001b[49m\u001b[43m \u001b[49m\u001b[43m(\u001b[49m\u001b[38;5;124;43m\"\u001b[39;49m\u001b[38;5;124;43mmeta\u001b[39;49m\u001b[38;5;124;43m\"\u001b[39;49m\u001b[43m,\u001b[49m\u001b[43m \u001b[49m\u001b[38;5;124;43m\"\u001b[39;49m\u001b[38;5;124;43munit\u001b[39;49m\u001b[38;5;124;43m\"\u001b[39;49m\u001b[43m,\u001b[49m\u001b[43m \u001b[49m\u001b[38;5;124;43m\"\u001b[39;49m\u001b[38;5;124;43mformat\u001b[39;49m\u001b[38;5;124;43m\"\u001b[39;49m\u001b[43m,\u001b[49m\u001b[43m \u001b[49m\u001b[38;5;124;43m\"\u001b[39;49m\u001b[38;5;124;43mdescription\u001b[39;49m\u001b[38;5;124;43m\"\u001b[39;49m\u001b[43m)\u001b[49m\n\u001b[1;32m    487\u001b[0m \u001b[43m\u001b[49m\u001b[43m)\u001b[49m\n\u001b[1;32m    489\u001b[0m \u001b[38;5;28;01mreturn\u001b[39;00m \u001b[38;5;28mself\u001b[39m\u001b[38;5;241m.\u001b[39m_parent_cls(length\u001b[38;5;241m=\u001b[39mlength, \u001b[38;5;241m*\u001b[39m\u001b[38;5;241m*\u001b[39mattrs)\n",
      "File \u001b[0;32m~/.cache/pypoetry/virtualenvs/skysim-QrhNYtKo-py3.12/lib/python3.12/site-packages/astropy/utils/data_info.py:741\u001b[0m, in \u001b[0;36mBaseColumnInfo.merge_cols_attributes\u001b[0;34m(cols, metadata_conflicts, name, attrs)\u001b[0m\n\u001b[1;32m    740\u001b[0m \u001b[38;5;66;03m# Output dtype is the superset of all dtypes in in_cols\u001b[39;00m\n\u001b[0;32m--> 741\u001b[0m out[\u001b[38;5;124m\"\u001b[39m\u001b[38;5;124mdtype\u001b[39m\u001b[38;5;124m\"\u001b[39m] \u001b[38;5;241m=\u001b[39m \u001b[43mmetadata\u001b[49m\u001b[38;5;241;43m.\u001b[39;49m\u001b[43mcommon_dtype\u001b[49m\u001b[43m(\u001b[49m\u001b[43mcols\u001b[49m\u001b[43m)\u001b[49m\n\u001b[1;32m    743\u001b[0m \u001b[38;5;66;03m# Make sure all input shapes are the same\u001b[39;00m\n",
      "File \u001b[0;32m~/.cache/pypoetry/virtualenvs/skysim-QrhNYtKo-py3.12/lib/python3.12/site-packages/astropy/utils/metadata/utils.py:44\u001b[0m, in \u001b[0;36mcommon_dtype\u001b[0;34m(arrs)\u001b[0m\n\u001b[1;32m     43\u001b[0m     tme\u001b[38;5;241m.\u001b[39m_incompat_types \u001b[38;5;241m=\u001b[39m incompat_types\n\u001b[0;32m---> 44\u001b[0m     \u001b[38;5;28;01mraise\u001b[39;00m tme\n\u001b[1;32m     46\u001b[0m arrs \u001b[38;5;241m=\u001b[39m [np\u001b[38;5;241m.\u001b[39mempty(\u001b[38;5;241m1\u001b[39m, dtype\u001b[38;5;241m=\u001b[39mdtype(arr)) \u001b[38;5;28;01mfor\u001b[39;00m arr \u001b[38;5;129;01min\u001b[39;00m arrs]\n",
      "\u001b[0;31mMergeConflictError\u001b[0m: Arrays have incompatible types ['object', 'str96', 'str96', 'object', 'object', 'object', 'object', 'str96', 'object', 'object', 'object', 'object', 'str32', 'str32', 'object', 'object', 'object', 'object', 'object', 'object', 'object', 'object']",
      "\nThe above exception was the direct cause of the following exception:\n",
      "\u001b[0;31mTableMergeError\u001b[0m                           Traceback (most recent call last)",
      "Cell \u001b[0;32mIn[5], line 36\u001b[0m\n\u001b[1;32m     32\u001b[0m             \u001b[38;5;28;01mraise\u001b[39;00m \u001b[38;5;167;01mException\u001b[39;00m(\u001b[38;5;124mf\u001b[39m\u001b[38;5;124m'\u001b[39m\u001b[38;5;124mItem \u001b[39m\u001b[38;5;132;01m{\u001b[39;00muid\u001b[38;5;132;01m}\u001b[39;00m\u001b[38;5;124m has diameters measured in multiple filters: \u001b[39m\u001b[38;5;132;01m{\u001b[39;00mgiven_filter_options\u001b[38;5;132;01m}\u001b[39;00m\u001b[38;5;124m'\u001b[39m)\n\u001b[1;32m     34\u001b[0m     deduplicated_result\u001b[38;5;241m.\u001b[39mappend(item_unique)\n\u001b[0;32m---> 36\u001b[0m deduplicated_query \u001b[38;5;241m=\u001b[39m \u001b[43mvstack\u001b[49m\u001b[43m(\u001b[49m\u001b[43mdeduplicated_result\u001b[49m\u001b[43m)\u001b[49m\n\u001b[1;32m     39\u001b[0m \u001b[38;5;28mprint\u001b[39m(deduplicated_query)\n",
      "File \u001b[0;32m~/.cache/pypoetry/virtualenvs/skysim-QrhNYtKo-py3.12/lib/python3.12/site-packages/astropy/table/operations.py:718\u001b[0m, in \u001b[0;36mvstack\u001b[0;34m(tables, join_type, metadata_conflicts)\u001b[0m\n\u001b[1;32m    715\u001b[0m \u001b[38;5;28;01mif\u001b[39;00m \u001b[38;5;28mlen\u001b[39m(tables) \u001b[38;5;241m==\u001b[39m \u001b[38;5;241m1\u001b[39m:\n\u001b[1;32m    716\u001b[0m     \u001b[38;5;28;01mreturn\u001b[39;00m tables[\u001b[38;5;241m0\u001b[39m]  \u001b[38;5;66;03m# no point in stacking a single table\u001b[39;00m\n\u001b[0;32m--> 718\u001b[0m out \u001b[38;5;241m=\u001b[39m \u001b[43m_vstack\u001b[49m\u001b[43m(\u001b[49m\u001b[43mtables\u001b[49m\u001b[43m,\u001b[49m\u001b[43m \u001b[49m\u001b[43mjoin_type\u001b[49m\u001b[43m,\u001b[49m\u001b[43m \u001b[49m\u001b[43mmetadata_conflicts\u001b[49m\u001b[43m)\u001b[49m\n\u001b[1;32m    720\u001b[0m \u001b[38;5;66;03m# Merge table metadata\u001b[39;00m\n\u001b[1;32m    721\u001b[0m _merge_table_meta(out, tables, metadata_conflicts\u001b[38;5;241m=\u001b[39mmetadata_conflicts)\n",
      "File \u001b[0;32m~/.cache/pypoetry/virtualenvs/skysim-QrhNYtKo-py3.12/lib/python3.12/site-packages/astropy/table/operations.py:1498\u001b[0m, in \u001b[0;36m_vstack\u001b[0;34m(arrays, join_type, metadata_conflicts)\u001b[0m\n\u001b[1;32m   1494\u001b[0m     col \u001b[38;5;241m=\u001b[39m col_cls\u001b[38;5;241m.\u001b[39minfo\u001b[38;5;241m.\u001b[39mnew_like(cols, n_rows, metadata_conflicts, out_name)\n\u001b[1;32m   1495\u001b[0m \u001b[38;5;28;01mexcept\u001b[39;00m metadata\u001b[38;5;241m.\u001b[39mMergeConflictError \u001b[38;5;28;01mas\u001b[39;00m err:\n\u001b[1;32m   1496\u001b[0m     \u001b[38;5;66;03m# Beautify the error message when we are trying to merge columns with incompatible\u001b[39;00m\n\u001b[1;32m   1497\u001b[0m     \u001b[38;5;66;03m# types by including the name of the columns that originated the error.\u001b[39;00m\n\u001b[0;32m-> 1498\u001b[0m     \u001b[38;5;28;01mraise\u001b[39;00m TableMergeError(\n\u001b[1;32m   1499\u001b[0m         \u001b[38;5;124mf\u001b[39m\u001b[38;5;124m\"\u001b[39m\u001b[38;5;124mThe \u001b[39m\u001b[38;5;124m'\u001b[39m\u001b[38;5;132;01m{\u001b[39;00mout_name\u001b[38;5;132;01m}\u001b[39;00m\u001b[38;5;124m'\u001b[39m\u001b[38;5;124m columns have incompatible types: \u001b[39m\u001b[38;5;124m\"\u001b[39m\n\u001b[1;32m   1500\u001b[0m         \u001b[38;5;124mf\u001b[39m\u001b[38;5;124m\"\u001b[39m\u001b[38;5;132;01m{\u001b[39;00merr\u001b[38;5;241m.\u001b[39m_incompat_types\u001b[38;5;132;01m}\u001b[39;00m\u001b[38;5;124m\"\u001b[39m\n\u001b[1;32m   1501\u001b[0m     ) \u001b[38;5;28;01mfrom\u001b[39;00m\u001b[38;5;250m \u001b[39m\u001b[38;5;21;01merr\u001b[39;00m\n\u001b[1;32m   1503\u001b[0m idx0 \u001b[38;5;241m=\u001b[39m \u001b[38;5;241m0\u001b[39m\n\u001b[1;32m   1504\u001b[0m \u001b[38;5;28;01mfor\u001b[39;00m name, array \u001b[38;5;129;01min\u001b[39;00m \u001b[38;5;28mzip\u001b[39m(in_names, arrays):\n",
      "\u001b[0;31mTableMergeError\u001b[0m: The 'object_type' columns have incompatible types: ['object', 'str96', 'str96', 'object', 'object', 'object', 'object', 'str96', 'object', 'object', 'object', 'object', 'str32', 'str32', 'object', 'object', 'object', 'object', 'object', 'object', 'object', 'object']"
     ]
    }
   ],
   "source": [
    "unique_ids = np.unique(query_result[\"id\"].data, return_index=True)[0]\n",
    "query_result.add_index(\"id\")\n",
    "\n",
    "deduplicated_result = []\n",
    "\n",
    "for uid in unique_ids:\n",
    "    item_duplicated = query_result.loc[uid]\n",
    "    item_unique = QTable()\n",
    "    item_unique[\"id\"] = [uid]\n",
    "    item_unique[\"ra\"] = [item_duplicated[\"ra\"].mean()]\n",
    "    item_unique[\"dec\"] = [item_duplicated[\"dec\"].mean()]\n",
    "    item_unique[\"magnitude\"] = [\n",
    "        item_duplicated[\"magnitude\"].mean()\n",
    "    ]  # all measured w/ same filter (V)\n",
    "    item_unique[\"distance\"] = [item_duplicated[\"distance\"].mean()]\n",
    "\n",
    "    object_type_options = np.unique(item_duplicated[\"object_type\"])\n",
    "    if len(object_type_options) == 1:\n",
    "        item_unique[\"object_type\"] = object_type_options\n",
    "    else:\n",
    "        raise Exception(f\"Item {uid} has multiple object types: {object_type_options}\")\n",
    "\n",
    "    diameter_filter_options = np.unique(item_duplicated[\"diameter.filter\"])\n",
    "    if len(diameter_filter_options) == 1:  # all diameters measured with the same filter\n",
    "        item_unique[\"diameter.filter\"] = diameter_filter_options[0]\n",
    "        item_unique[\"diameter\"] = [item_duplicated[\"diameter\"].mean()]\n",
    "    else:\n",
    "        given_filter_options = [o for o in diameter_filter_options if len(o) > 0]\n",
    "        if len(given_filter_options) == 1:  # ignore the unknown filter options\n",
    "            item_unique[\"diameter.filter\"] = given_filter_options\n",
    "            diameter_rows = (\n",
    "                item_duplicated[\"diameter.filter\"] == given_filter_options[0]\n",
    "            )\n",
    "            item_unique[\"diameter\"] = [\n",
    "                (item_duplicated[\"diameter\"][diameter_rows]).mean()\n",
    "            ]\n",
    "        else:\n",
    "            raise Exception(\n",
    "                f\"Item {uid} has diameters measured in multiple filters: {given_filter_options}\"\n",
    "            )\n",
    "\n",
    "    deduplicated_result.append(item_unique)\n",
    "\n",
    "deduplicated_query = vstack(deduplicated_result)\n",
    "\n",
    "\n",
    "print(deduplicated_query)"
   ]
  },
  {
   "cell_type": "code",
   "execution_count": null,
   "id": "eeb465e5",
   "metadata": {},
   "outputs": [
    {
     "data": {
      "application/vnd.jupyter.widget-view+json": {
       "model_id": "0480b992a6534e93a331f8b7359078c5",
       "version_major": 2,
       "version_minor": 0
      },
      "text/plain": [
       "DataGrid(auto_fit_params={'area': 'all', 'padding': 30, 'numCols': None}, corner_renderer=None, default_render…"
      ]
     },
     "execution_count": 16,
     "metadata": {},
     "output_type": "execute_result"
    }
   ],
   "source": [
    "Simbad.list_votable_fields().show_in_notebook()"
   ]
  },
  {
   "cell_type": "code",
   "execution_count": null,
   "id": "35939551",
   "metadata": {},
   "outputs": [
    {
     "data": {
      "application/vnd.jupyter.widget-view+json": {
       "model_id": "6462f27554e447478b77222d618c884f",
       "version_major": 2,
       "version_minor": 0
      },
      "text/plain": [
       "DataGrid(auto_fit_params={'area': 'all', 'padding': 30, 'numCols': None}, corner_renderer=None, default_render…"
      ]
     },
     "execution_count": 31,
     "metadata": {},
     "output_type": "execute_result"
    }
   ],
   "source": [
    "Simbad.list_columns(\"mesdistance\").show_in_notebook()"
   ]
  },
  {
   "cell_type": "code",
   "execution_count": null,
   "id": "d9009519",
   "metadata": {},
   "outputs": [],
   "source": []
  }
 ],
 "metadata": {
  "kernelspec": {
   "display_name": "skysim-QrhNYtKo-py3.12",
   "language": "python",
   "name": "python3"
  },
  "language_info": {
   "codemirror_mode": {
    "name": "ipython",
    "version": 3
   },
   "file_extension": ".py",
   "mimetype": "text/x-python",
   "name": "python",
   "nbconvert_exporter": "python",
   "pygments_lexer": "ipython3",
   "version": "3.12.8"
  }
 },
 "nbformat": 4,
 "nbformat_minor": 5
}
