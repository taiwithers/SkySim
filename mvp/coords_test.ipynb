{
 "cells": [
  {
   "cell_type": "code",
   "execution_count": 2,
   "metadata": {},
   "outputs": [],
   "source": [
    "from astropy import units as u\n",
    "from astropy.coordinates import AltAz, EarthLocation, SkyCoord, ICRS\n",
    "from astropy.time import Time"
   ]
  },
  {
   "cell_type": "code",
   "execution_count": 3,
   "metadata": {},
   "outputs": [
    {
     "name": "stdout",
     "output_type": "stream",
     "text": [
      "<ICRS Coordinate: (ra, dec) in deg\n",
      "    (79.54058156, 23.6258137)>\n"
     ]
    }
   ],
   "source": [
    "toronto = EarthLocation.of_address(\"Toronto\")\n",
    "observation_point = (\n",
    "    70 * u.deg,\n",
    "    180 * u.deg,\n",
    ")  # altitude (deg from horizon), azimuth (eastwards from north)\n",
    "utc_conversion = +4 * u.hour\n",
    "datetime = Time(\"2025-02-13 21:00:00\") + utc_conversion\n",
    "\n",
    "earth_frame = AltAz(\n",
    "    obstime=datetime,\n",
    "    az=observation_point[1],\n",
    "    alt=observation_point[0],\n",
    "    location=toronto,\n",
    ")\n",
    "\n",
    "ra_dec = earth_frame.transform_to(ICRS())\n",
    "\n",
    "print(ra_dec)"
   ]
  },
  {
   "cell_type": "code",
   "execution_count": null,
   "metadata": {},
   "outputs": [],
   "source": []
  }
 ],
 "metadata": {
  "kernelspec": {
   "display_name": "skysim-QrhNYtKo-py3.12",
   "language": "python",
   "name": "python3"
  },
  "language_info": {
   "codemirror_mode": {
    "name": "ipython",
    "version": 3
   },
   "file_extension": ".py",
   "mimetype": "text/x-python",
   "name": "python",
   "nbconvert_exporter": "python",
   "pygments_lexer": "ipython3",
   "version": "3.12.8"
  }
 },
 "nbformat": 4,
 "nbformat_minor": 2
}
