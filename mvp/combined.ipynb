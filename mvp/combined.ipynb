{
 "cells": [
  {
   "cell_type": "code",
   "execution_count": 1,
   "metadata": {},
   "outputs": [],
   "source": [
    "import warnings\n",
    "import os\n",
    "import numpy as np\n",
    "from astropy import units as u\n",
    "from astropy.coordinates import ICRS, AltAz, EarthLocation, SkyCoord\n",
    "from astropy.table import QTable, unique\n",
    "from astropy.time import Time\n",
    "from astropy.visualization.wcsaxes.frame import EllipticalFrame\n",
    "from astropy.wcs import WCS\n",
    "from astroquery.simbad import Simbad\n",
    "from astroquery.exceptions import NoResultsWarning\n",
    "from matplotlib import patheffects\n",
    "from matplotlib import pyplot as plt\n",
    "from matplotlib.colors import LinearSegmentedColormap, LogNorm\n",
    "from wand.image import Image\n",
    "\n",
    "import plot_utils as pu\n",
    "\n",
    "backgroundcolour = \"#171726\"\n",
    "# backgroundcolour = \"#000\"\n",
    "foregroundcolour = \"#FFF\"\n",
    "\n",
    "cmap = LinearSegmentedColormap.from_list(\"sky\", [backgroundcolour, foregroundcolour])\n",
    "\n",
    "Simbad.reset_votable_fields()\n",
    "\n",
    "generic_maximum_magnitude = 10"
   ]
  },
  {
   "cell_type": "markdown",
   "metadata": {},
   "source": [
    "## User Inputs"
   ]
  },
  {
   "cell_type": "code",
   "execution_count": 25,
   "metadata": {},
   "outputs": [],
   "source": [
    "location = \"Toronto\"\n",
    "observation_point = (\n",
    "    40 * u.deg,\n",
    "    140 * u.deg,\n",
    ")  # altitude (deg from horizon), azimuth (eastwards from north)\n",
    "utc_conversion = -4 * u.hour\n",
    "datetime = Time(\"2025-02-18 19:00:00\") - utc_conversion\n",
    "\n",
    "view_radius = 15 * u.deg\n",
    "maximum_magnitude = 4\n",
    "\n",
    "image_pixels = 250\n",
    "\n",
    "starttime = Time(\"2025-02-18 19:00:00\") - utc_conversion\n",
    "endtime = Time(\"2025-02-18 23:00:00\") - utc_conversion\n",
    "timedelta = 0.5*u.hour\n",
    "\n",
    "datetime = Time(np.arange(\n",
    "    starttime.to_value(\"mjd\"), endtime.to_value(\"mjd\"), timedelta.to(u.day).value\n",
    "), format='mjd')\n",
    "\n",
    "frames = len(datetime)\n",
    "\n",
    "fps = 2\n",
    "\n",
    "image_directory = os.getcwd()\n",
    "\n",
    "gif_fname = f'{image_directory}/SkySim.gif'\n",
    "\n",
    "delete_frames = True"
   ]
  },
  {
   "cell_type": "markdown",
   "metadata": {},
   "source": [
    "## Convert Observing Point to RA/Dec"
   ]
  },
  {
   "cell_type": "code",
   "execution_count": 4,
   "metadata": {},
   "outputs": [],
   "source": [
    "# query to a lat/long\n",
    "earth_location = EarthLocation.of_address(location)\n",
    "\n",
    "# generate a coordinate frame for the observation\n",
    "earth_frame = AltAz(\n",
    "    obstime=datetime,\n",
    "    az=observation_point[1],\n",
    "    alt=observation_point[0],\n",
    "    location=earth_location,\n",
    ")\n",
    "\n",
    "# perform the conversion\n",
    "ra_dec = SkyCoord(earth_frame.transform_to(ICRS()))"
   ]
  },
  {
   "cell_type": "code",
   "execution_count": 5,
   "metadata": {},
   "outputs": [],
   "source": [
    "# ra_dec = SkyCoord(ra='5h36m12.81s',dec='-1d12m6.91s')"
   ]
  },
  {
   "cell_type": "markdown",
   "metadata": {},
   "source": [
    "## Query SIMBAD to get a catalogue of objects with relevant data"
   ]
  },
  {
   "cell_type": "code",
   "execution_count": 15,
   "metadata": {},
   "outputs": [],
   "source": [
    "Simbad.reset_votable_fields()\n",
    "Simbad.add_votable_fields(\"otype\",\"V\",\"ids\")\n",
    "criteria = f\"otype != 'err' AND V < {generic_maximum_magnitude}\"\n",
    "query_result = QTable(\n",
    "    Simbad.query_region(ra_dec, radius=view_radius, criteria=criteria)\n",
    ")"
   ]
  },
  {
   "cell_type": "code",
   "execution_count": 16,
   "metadata": {},
   "outputs": [],
   "source": [
    "# clean up the result\n",
    "columns_to_remove = [\n",
    "    \"coo_err_min\",\n",
    "    \"coo_err_angle\",\n",
    "    \"coo_wavelength\",\n",
    "    \"coo_bibcode\",\n",
    "    \"coo_err_maj\",\n",
    "]\n",
    "for colname in columns_to_remove:\n",
    "    query_result.remove_column(colname)\n",
    "\n",
    "# rename columns\n",
    "query_result.rename_column(\"main_id\", \"id\")\n",
    "query_result.rename_column(\"otype\", \"object_type\")\n",
    "query_result.rename_column(\"V\", \"magnitude\")\n",
    "\n",
    "# round columns\n",
    "query_result[\"ra\"] = query_result[\"ra\"].round(5)\n",
    "query_result[\"dec\"] = query_result[\"dec\"].round(5)\n",
    "query_result[\"magnitude\"] = query_result[\"magnitude\"].round(3)\n",
    "\n",
    "# create human-readable name column\n",
    "query_result['ids_list'] = [i.split('|') for i in query_result['ids']]\n",
    "names_column = []\n",
    "for id, namelist in zip(query_result['id'].data, query_result['ids_list'].data):\n",
    "    item_names = [n[5:] for n in namelist if \"NAME\" in n]\n",
    "    if len(item_names) == 0:\n",
    "        names_column.append(id)\n",
    "    elif len(item_names) == 1:\n",
    "        names_column.append(item_names[0])\n",
    "    else:\n",
    "        names_column.append('/'.join(item_names))\n",
    "query_result[\"name\"] = names_column\n",
    "query_result.remove_columns(['ids', 'ids_list'])"
   ]
  },
  {
   "cell_type": "markdown",
   "metadata": {},
   "source": [
    "## Filter data"
   ]
  },
  {
   "cell_type": "code",
   "execution_count": 17,
   "metadata": {},
   "outputs": [],
   "source": [
    "# only keep items with magnitudes less than the given maximum\n",
    "query_result = query_result[query_result[\"magnitude\"] < maximum_magnitude]"
   ]
  },
  {
   "cell_type": "code",
   "execution_count": 18,
   "metadata": {},
   "outputs": [],
   "source": [
    "# remove child elements\n",
    "parents = query_result['id'] # check all items, regardless of type\n",
    "parents_string = tuple(parents.data)\n",
    "parent_query_adql = f\"\"\"\n",
    "    SELECT main_id AS \"child_id\",\n",
    "    parent_table.id AS \"parent_id\"\n",
    "    FROM (SELECT oidref, id FROM ident WHERE id IN {parents_string}) AS parent_table,\n",
    "    basic JOIN h_link ON basic.oid = h_link.child\n",
    "    WHERE h_link.parent = parent_table.oidref;\n",
    "\"\"\"\n",
    "with warnings.catch_warnings(action='ignore', category=NoResultsWarning):\n",
    "    hierarchies = Simbad.query_tap(parent_query_adql)\n",
    "children = unique(hierarchies)['child_id'].data\n",
    "query_result.add_index(\"id\")\n",
    "for child_id in children:\n",
    "    if child_id in query_result[\"id\"]:\n",
    "        query_result.remove_rows(query_result.loc_indices[child_id])\n",
    "\n",
    "query_result = unique(query_result)"
   ]
  },
  {
   "cell_type": "markdown",
   "metadata": {},
   "source": [
    "## Calculate image parameters"
   ]
  },
  {
   "cell_type": "code",
   "execution_count": 19,
   "metadata": {},
   "outputs": [],
   "source": [
    "query_result[\"flux\"] = 10 ** (\n",
    "    -query_result[\"magnitude\"] / 2.5\n",
    ")  # relative to V-band reference flux\n",
    "query_result[\"flux\"] = query_result[\"flux\"].round(5)\n",
    "\n",
    "degrees_per_pixel = (view_radius / (image_pixels / 2)).to(u.deg).value\n",
    "\n",
    "airy_disk_minimum = 23 * u.arcmin / 2  # based on Vega spread in SIMBAD image\n",
    "airy_disk_pixels = airy_disk_minimum.to(u.deg) / (degrees_per_pixel * u.deg)\n",
    "\n",
    "# assume the airy disk is at 3x standard deviation of the Gaussian\n",
    "std_dev = airy_disk_pixels / 3\n",
    "\n",
    "# standard deviation is \"diameter\" whilst airy is \"radius\"\n",
    "std_dev *= 2\n",
    "\n",
    "query_result[\"scaled_flux\"] = np.log10(query_result[\"flux\"])\n",
    "query_result[\"scaled_flux\"] = query_result[\"scaled_flux\"] - np.min(query_result[\"scaled_flux\"]) + 0.2\n",
    "query_result[\"scaled_flux\"] /= np.max(query_result[\"scaled_flux\"])\n",
    "query_result[\"scaled_flux\"] = query_result[\"scaled_flux\"].round(5)\n",
    "\n",
    "def get_intensity(radius, flux, sigma):\n",
    "    \"\"\"\n",
    "    How much light is observed from a star at some radius away from it\n",
    "    \"\"\"\n",
    "    exponential = np.exp(-(radius**2) / (sigma**2))\n",
    "\n",
    "    return flux * exponential"
   ]
  },
  {
   "cell_type": "code",
   "execution_count": 20,
   "metadata": {},
   "outputs": [
    {
     "data": {
      "text/html": [
       "<div><i>QTable length=31</i>\n",
       "<table id=\"table140253912070528\" class=\"table-striped table-bordered table-condensed\">\n",
       "<thead><tr><th>id</th><th>ra</th><th>dec</th><th>magnitude</th><th>object_type</th><th>name</th><th>flux</th><th>scaled_flux</th></tr></thead>\n",
       "<thead><tr><th></th><th>deg</th><th>deg</th><th></th><th></th><th></th><th></th><th></th></tr></thead>\n",
       "<thead><tr><th>object</th><th>float64</th><th>float64</th><th>float64</th><th>object</th><th>str71</th><th>float64</th><th>float64</th></tr></thead>\n",
       "<tr><td>* bet Ori</td><td>78.63447</td><td>-8.20164</td><td>0.13</td><td>s*b</td><td>Rigel</td><td>0.88716</td><td>1.0</td></tr>\n",
       "<tr><td>* alf CMi</td><td>114.8255</td><td>5.22499</td><td>0.37</td><td>SB*</td><td>Procyon/Procyon A</td><td>0.71121</td><td>0.94457</td></tr>\n",
       "<tr><td>* alf Ori</td><td>88.79294</td><td>7.40706</td><td>0.42</td><td>s*r</td><td>Betelgeuse</td><td>0.6792</td><td>0.93302</td></tr>\n",
       "<tr><td>* gam Ori</td><td>81.28276</td><td>6.3497</td><td>1.64</td><td>V*</td><td>Bellatrix</td><td>0.2208</td><td>0.65127</td></tr>\n",
       "<tr><td>* eps Ori</td><td>84.05339</td><td>-1.20192</td><td>1.69</td><td>s*b</td><td>Alnilam</td><td>0.21086</td><td>0.63972</td></tr>\n",
       "<tr><td>* zet Ori</td><td>85.18969</td><td>-1.94257</td><td>1.77</td><td>**</td><td>Alnitak</td><td>0.19588</td><td>0.62125</td></tr>\n",
       "<tr><td>* alf Hya</td><td>141.89684</td><td>-8.6586</td><td>1.97</td><td>*</td><td>Alphard</td><td>0.16293</td><td>0.57506</td></tr>\n",
       "<tr><td>* kap Ori</td><td>86.93912</td><td>-9.6696</td><td>2.06</td><td>s*b</td><td>Saiph</td><td>0.14997</td><td>0.55428</td></tr>\n",
       "<tr><td>* del Ori</td><td>83.00167</td><td>-0.2991</td><td>2.41</td><td>**</td><td>Mintaka</td><td>0.10864</td><td>0.47344</td></tr>\n",
       "<tr><td>...</td><td>...</td><td>...</td><td>...</td><td>...</td><td>...</td><td>...</td><td>...</td></tr>\n",
       "<tr><td>* lam Ori</td><td>83.78449</td><td>9.93416</td><td>3.66</td><td>**</td><td>Heka/Meissa</td><td>0.03436</td><td>0.1848</td></tr>\n",
       "<tr><td>* pi.04 Ori</td><td>72.80152</td><td>5.6051</td><td>3.68</td><td>SB*</td><td>* pi.04 Ori</td><td>0.03373</td><td>0.18016</td></tr>\n",
       "<tr><td>* pi.05 Ori</td><td>73.5629</td><td>2.44067</td><td>3.73</td><td>SB*</td><td>* pi.05 Ori</td><td>0.03221</td><td>0.1686</td></tr>\n",
       "<tr><td>* bet Mon</td><td>97.20446</td><td>-7.03306</td><td>3.74</td><td>**</td><td>* bet Mon</td><td>0.03192</td><td>0.16633</td></tr>\n",
       "<tr><td>* sig Ori</td><td>84.68652</td><td>-2.60008</td><td>3.79</td><td>Y*O</td><td>* sig Ori</td><td>0.03048</td><td>0.15476</td></tr>\n",
       "<tr><td>*  30 Mon</td><td>126.41513</td><td>-3.90643</td><td>3.9</td><td>PM*</td><td>*  30 Mon</td><td>0.02754</td><td>0.12932</td></tr>\n",
       "<tr><td>* iot Hya</td><td>144.96401</td><td>-1.14281</td><td>3.91</td><td>PM*</td><td>Ukdah</td><td>0.02729</td><td>0.12704</td></tr>\n",
       "<tr><td>* alf Mon</td><td>115.3118</td><td>-9.55113</td><td>3.93</td><td>PM*</td><td>* alf Mon</td><td>0.02679</td><td>0.1224</td></tr>\n",
       "<tr><td>* gam Mon</td><td>93.71389</td><td>-6.27478</td><td>3.96</td><td>*</td><td>* gam Mon</td><td>0.02606</td><td>0.11547</td></tr>\n",
       "</table></div>"
      ],
      "text/plain": [
       "<QTable length=31>\n",
       "     id         ra      dec    ...        name         flux  scaled_flux\n",
       "               deg      deg    ...                                      \n",
       "   object    float64  float64  ...       str71       float64   float64  \n",
       "----------- --------- -------- ... ----------------- ------- -----------\n",
       "  * bet Ori  78.63447 -8.20164 ...             Rigel 0.88716         1.0\n",
       "  * alf CMi  114.8255  5.22499 ... Procyon/Procyon A 0.71121     0.94457\n",
       "  * alf Ori  88.79294  7.40706 ...        Betelgeuse  0.6792     0.93302\n",
       "  * gam Ori  81.28276   6.3497 ...         Bellatrix  0.2208     0.65127\n",
       "  * eps Ori  84.05339 -1.20192 ...           Alnilam 0.21086     0.63972\n",
       "  * zet Ori  85.18969 -1.94257 ...           Alnitak 0.19588     0.62125\n",
       "  * alf Hya 141.89684  -8.6586 ...           Alphard 0.16293     0.57506\n",
       "  * kap Ori  86.93912  -9.6696 ...             Saiph 0.14997     0.55428\n",
       "  * del Ori  83.00167  -0.2991 ...           Mintaka 0.10864     0.47344\n",
       "        ...       ...      ... ...               ...     ...         ...\n",
       "  * lam Ori  83.78449  9.93416 ...       Heka/Meissa 0.03436      0.1848\n",
       "* pi.04 Ori  72.80152   5.6051 ...       * pi.04 Ori 0.03373     0.18016\n",
       "* pi.05 Ori   73.5629  2.44067 ...       * pi.05 Ori 0.03221      0.1686\n",
       "  * bet Mon  97.20446 -7.03306 ...         * bet Mon 0.03192     0.16633\n",
       "  * sig Ori  84.68652 -2.60008 ...         * sig Ori 0.03048     0.15476\n",
       "  *  30 Mon 126.41513 -3.90643 ...         *  30 Mon 0.02754     0.12932\n",
       "  * iot Hya 144.96401 -1.14281 ...             Ukdah 0.02729     0.12704\n",
       "  * alf Mon  115.3118 -9.55113 ...         * alf Mon 0.02679      0.1224\n",
       "  * gam Mon  93.71389 -6.27478 ...         * gam Mon 0.02606     0.11547"
      ]
     },
     "execution_count": 20,
     "metadata": {},
     "output_type": "execute_result"
    }
   ],
   "source": [
    "query_result.sort('magnitude')\n",
    "query_result"
   ]
  },
  {
   "cell_type": "markdown",
   "metadata": {},
   "source": [
    "## Add stars to image"
   ]
  },
  {
   "cell_type": "code",
   "execution_count": 21,
   "metadata": {},
   "outputs": [],
   "source": [
    "image = np.zeros((frames, image_pixels, image_pixels))\n",
    "\n",
    "maxradius = np.ceil(10 * std_dev)  # calculate contribution out to 5 standard deviations\n",
    "radius_vector = np.arange(-maxradius, maxradius + 1).astype(int)\n",
    "area = np.array(\n",
    "    np.meshgrid(radius_vector, radius_vector)\n",
    ")  # mesh of points which will map to around the star\n",
    "\n",
    "radial_distance = np.sqrt(\n",
    "    area[0] ** 2 + area[1] ** 2\n",
    ")  # radius measurement at each of the meshgrid points\n",
    "\n",
    "unique_radii = np.unique(radial_distance)\n",
    "\n",
    "# all of the locations where each unique radius is found\n",
    "radius_locations = [\n",
    "    np.array(np.where(radial_distance == radius)).T for radius in unique_radii\n",
    "]\n",
    "\n",
    "wcs_by_frame = []\n",
    "for i in range(frames):\n",
    "    wcs = WCS(naxis=2)\n",
    "    wcs.wcs.crpix = [image_pixels / 2] * 2\n",
    "    wcs.wcs.cdelt = [degrees_per_pixel, degrees_per_pixel]\n",
    "    wcs.wcs.crval = [ra_dec[i].ra.value, ra_dec[i].dec.value]\n",
    "    wcs.wcs.ctype = [\"RA\", \"DEC\"]\n",
    "    wcs.wcs.cunit = [u.deg, u.deg]\n",
    "    wcs_by_frame.append(wcs)\n",
    "\n",
    "for name, ra, dec, flux in query_result[[\"name\", \"ra\", \"dec\", \"scaled_flux\"]]:\n",
    "    skycoord = SkyCoord(ra=ra, dec=dec)  # star location\n",
    "\n",
    "    xy_by_frame = [np.round(skycoord.to_pixel(wcs)).astype(int) for wcs in wcs_by_frame]\n",
    "\n",
    "    # do all points at some given radius at once\n",
    "    for radius, points in zip(unique_radii, radius_locations):\n",
    "        brightness = get_intensity(radius, flux, std_dev)\n",
    "\n",
    "        for area_x, area_y in points:\n",
    "            for i, (x,y) in enumerate(xy_by_frame):\n",
    "                # get the pixel locations where this radius applies\n",
    "                x_ = x + area[1][area_x, area_y]\n",
    "                y_ = y + area[0][area_x, area_y]\n",
    "\n",
    "                if (0 <= x_ < image.shape[2]) and (0 <= y_ < image.shape[1]):\n",
    "                    image[i, y_, x_] += brightness"
   ]
  },
  {
   "cell_type": "markdown",
   "metadata": {},
   "source": [
    "## Plot result"
   ]
  },
  {
   "cell_type": "code",
   "execution_count": 23,
   "metadata": {},
   "outputs": [
    {
     "name": "stdout",
     "output_type": "stream",
     "text": [
      "/home/taiwithers/projects/skysim/mvp/SkySim_0.png saved.\n",
      "/home/taiwithers/projects/skysim/mvp/SkySim_1.png saved.\n",
      "/home/taiwithers/projects/skysim/mvp/SkySim_2.png saved.\n",
      "/home/taiwithers/projects/skysim/mvp/SkySim_3.png saved.\n",
      "/home/taiwithers/projects/skysim/mvp/SkySim_4.png saved.\n",
      "/home/taiwithers/projects/skysim/mvp/SkySim_5.png saved.\n",
      "/home/taiwithers/projects/skysim/mvp/SkySim_6.png saved.\n",
      "/home/taiwithers/projects/skysim/mvp/SkySim_7.png saved.\n"
     ]
    }
   ],
   "source": [
    "gif_frame_paths = []\n",
    "for i, (frametime, wcs) in enumerate(zip(datetime, wcs_by_frame)):\n",
    "    fig, ax = pu.fig_setup(wcs=wcs, plot_kwargs={\"frame_class\": EllipticalFrame})\n",
    "\n",
    "    im = ax.imshow(image[i], vmin=0, vmax=1, cmap=cmap)\n",
    "\n",
    "    pu.style_wcs_axes(ax, axis_ticks=(False, False))\n",
    "    ax.invert_xaxis()\n",
    "\n",
    "    location_string = f\"{location}\"\n",
    "    datetime_string = f\"{frametime.to_value('iso')} UTC\"\n",
    "    altaz_string = f\"Altitude: {observation_point[0].to_string(format=\"latex\")}, Azimuth: {observation_point[1].to_string(format=\"latex\")}, FOV: {(2*view_radius).to_string(format=\"latex\")}\"\n",
    "    ax.set_title(f\"{location_string}\\n{datetime_string}\\n{altaz_string}\")\n",
    "\n",
    "    fname = f\"SkySim_{i}.png\"\n",
    "    pu.save_fig(fig, fname, directory=image_directory)\n",
    "    gif_frame_paths.append(fname)"
   ]
  },
  {
   "cell_type": "code",
   "execution_count": null,
   "metadata": {},
   "outputs": [],
   "source": [
    "gif_sequence = Image()\n",
    "for fname in gif_frame_paths:\n",
    "    frame = Image(filename=fname)\n",
    "    frame.delay = int(100 / fps)\n",
    "    gif_sequence.sequence.append(frame)\n",
    "\n",
    "gif_sequence.save(filename=gif_fname)"
   ]
  },
  {
   "cell_type": "code",
   "execution_count": 26,
   "metadata": {},
   "outputs": [],
   "source": [
    "for fname in gif_frame_paths:\n",
    "    os.remove(fname)"
   ]
  },
  {
   "cell_type": "code",
   "execution_count": null,
   "metadata": {},
   "outputs": [],
   "source": []
  }
 ],
 "metadata": {
  "kernelspec": {
   "display_name": "skysim-QrhNYtKo-py3.12",
   "language": "python",
   "name": "python3"
  },
  "language_info": {
   "codemirror_mode": {
    "name": "ipython",
    "version": 3
   },
   "file_extension": ".py",
   "mimetype": "text/x-python",
   "name": "python",
   "nbconvert_exporter": "python",
   "pygments_lexer": "ipython3",
   "version": "3.12.8"
  }
 },
 "nbformat": 4,
 "nbformat_minor": 2
}
